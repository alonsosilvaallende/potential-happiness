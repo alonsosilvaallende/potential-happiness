{
 "cells": [
  {
   "cell_type": "markdown",
   "metadata": {},
   "source": [
    "# Calculadora del IMC para adultos"
   ]
  },
  {
   "cell_type": "code",
   "execution_count": 1,
   "metadata": {
    "ExecuteTime": {
     "end_time": "2023-05-16T21:10:57.673082Z",
     "start_time": "2023-05-16T21:10:56.838476Z"
    }
   },
   "outputs": [
    {
     "data": {
      "application/vnd.jupyter.widget-view+json": {
       "model_id": "045c6950c5124cb18ebba133cf1d5569",
       "version_major": 2,
       "version_minor": 0
      },
      "text/plain": [
       "VBox(children=(HBox(children=(BoundedIntText(value=175, description='Altura [cm]:', max=300), BoundedFloatText…"
      ]
     },
     "metadata": {},
     "output_type": "display_data"
    }
   ],
   "source": [
    "import numpy as np\n",
    "import ipywidgets as widgets\n",
    "\n",
    "slider1 = widgets.BoundedIntText(\n",
    "    min=0,\n",
    "    max=300,\n",
    "    step=1,\n",
    "    description='Altura [cm]:',\n",
    "    disabled=False\n",
    ")\n",
    "slider2 = widgets.BoundedFloatText(\n",
    "    min=0,\n",
    "    max=700,\n",
    "    step=0.1,\n",
    "    description='Peso [kg]:',\n",
    "    disabled=False\n",
    ")\n",
    "\n",
    "text1 = widgets.FloatText(disabled=True, description=\"IMC\")\n",
    "text2 = widgets.HTML(\n",
    "    disabled=True,\n",
    "    description=\"\"\n",
    ")\n",
    "\n",
    "def compute(*ignore):\n",
    "    text1.value = str(np.round(slider2.value/((slider1.value/100) ** 2), decimals=2))\n",
    "\n",
    "widgets.HTML(\n",
    "    value=\"Hello <b>World</b>\",\n",
    "    placeholder='Some HTML',\n",
    "    description='Some HTML',\n",
    ")\n",
    "\n",
    "def compute_in_words(*ignore):\n",
    "    imc = np.round(slider2.value/((slider1.value/100) ** 2), decimals=2)\n",
    "    if imc < 18.5:\n",
    "        text2.value = \"<b>Bajo peso</b><br> Peso normal<br> Sobrepeso<br> Obesidad<br>\"\n",
    "    elif imc < 25:\n",
    "        text2.value = \"Bajo peso<br> <b>Peso normal</b><br> Sobrepeso<br> Obesidad<br>\"\n",
    "    elif imc < 30:\n",
    "        text2.value = \"Bajo peso<br> Peso normal<br> <b>Sobrepeso</b><br> Obesidad<br>\"\n",
    "    else:\n",
    "        text2.value = \"Bajo peso<br> Peso normal<br> Sobrepeso<br> <b>Obesidad</b><br>\"\n",
    "\n",
    "slider1.observe(compute, 'value')\n",
    "slider2.observe(compute, 'value')\n",
    "slider1.observe(compute_in_words, 'value')\n",
    "slider2.observe(compute_in_words, 'value')\n",
    "slider1.value = 175\n",
    "slider2.value = 75.0\n",
    "widgets.VBox([widgets.HBox([slider1, slider2]), widgets.HBox([text1, widgets.Label(value=\"Nivel de peso:\"), text2])])"
   ]
  }
 ],
 "metadata": {
  "kernelspec": {
   "display_name": "Python 3",
   "language": "python",
   "name": "python3"
  },
  "language_info": {
   "codemirror_mode": {
    "name": "ipython",
    "version": 3
   },
   "file_extension": ".py",
   "mimetype": "text/x-python",
   "name": "python",
   "nbconvert_exporter": "python",
   "pygments_lexer": "ipython3",
   "version": "3.8.5"
  }
 },
 "nbformat": 4,
 "nbformat_minor": 4
}
